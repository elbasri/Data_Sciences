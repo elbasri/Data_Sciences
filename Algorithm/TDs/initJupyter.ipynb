{
  "cells": [
    {
      "cell_type": "markdown",
      "metadata": {
        "id": "LezEvKnftEzV"
      },
      "source": [
        "<h1 class=\"text-danger text-danger\">Mater Data Science & IA</h1>"
      ]
    },
    {
      "cell_type": "code",
      "execution_count": null,
      "metadata": {
        "id": "UBY6ROGntEzX"
      },
      "outputs": [],
      "source": [
        "import pandas as pd\n",
        "import numpy as np"
      ]
    },
    {
      "cell_type": "code",
      "execution_count": null,
      "metadata": {
        "id": "XuXK1uzKtEzY"
      },
      "outputs": [],
      "source": [
        "dataF = pd.DataFrame(np.array([[1,2,3],[5,3,4],[9,7,8],[9,7,8]]), columns=[\"A\",\"B\",\"C\"])\n",
        "dataF"
      ]
    },
    {
      "cell_type": "code",
      "execution_count": null,
      "metadata": {
        "id": "so1_ou9WtEzZ"
      },
      "outputs": [],
      "source": [
        "dataF[\"Moy\"] = (dataF.A + dataF.B + dataF.C)/3\n",
        "dataF"
      ]
    },
    {
      "cell_type": "code",
      "execution_count": null,
      "metadata": {
        "id": "85obVyljtEza"
      },
      "outputs": [],
      "source": [
        "dataF.columns = [\"col1\", \"col2\", \"col3\", \"MoyLine\"]\n",
        "dataF"
      ]
    },
    {
      "cell_type": "code",
      "execution_count": null,
      "metadata": {
        "id": "zAUL6vMmtEza"
      },
      "outputs": [],
      "source": [
        "dataF2 = pd.DataFrame({\"Tech\":[\"Django\", \"Laravel\", \"PHP\", \"React\"], \"Users\":[124, 548, 1500, 2780]})\n",
        "print(dataF2)"
      ]
    },
    {
      "cell_type": "code",
      "execution_count": null,
      "metadata": {
        "id": "x-e1Ud-rtEza"
      },
      "outputs": [],
      "source": [
        "dataF3 = pd.concat([dataF2, dataF], axis=1)\n",
        "dataF3"
      ]
    },
    {
      "cell_type": "code",
      "execution_count": null,
      "metadata": {
        "id": "OO98Qg1etEzb"
      },
      "outputs": [],
      "source": [
        "dataF4 = pd.DataFrame(dataF3[[\"Tech\",\"MoyLine\"]])\n",
        "dataF4"
      ]
    },
    {
      "cell_type": "code",
      "execution_count": null,
      "metadata": {
        "id": "cun3FmpqtEzb"
      },
      "outputs": [],
      "source": [
        "import matplotlib.pyplot as plt"
      ]
    },
    {
      "cell_type": "code",
      "execution_count": null,
      "metadata": {
        "id": "OE2QDrs-tEzc"
      },
      "outputs": [],
      "source": [
        "plt.scatter(dataF[\"col1\"], dataF[\"MoyLine\"])\n",
        "plt.show()"
      ]
    },
    {
      "cell_type": "code",
      "execution_count": null,
      "metadata": {
        "id": "-AGJqTwAtEzc"
      },
      "outputs": [],
      "source": [
        "dataF5 = dataF3[dataF3.col2>2]\n",
        "dataF5"
      ]
    },
    {
      "cell_type": "code",
      "execution_count": null,
      "metadata": {
        "id": "4pkzXTdntEzd"
      },
      "outputs": [],
      "source": [
        "import random as rnd\n",
        "#Methode 1:\n",
        "#dataF6 = pd.DataFrame([[rnd.randint(1, 100) for _ in range(3)] for _ in range(100)], columns=[\"X\",\"Y\", \"Z\"])\n",
        "#Methode 2:\n",
        "dataF6 = pd.DataFrame(np.random.randint(5,78,(100,3)), columns= [\"X\",\"Y\",\"Z\"])\n",
        "dataF6"
      ]
    },
    {
      "cell_type": "code",
      "execution_count": null,
      "metadata": {
        "id": "2QO4wGoLtEzd"
      },
      "outputs": [],
      "source": []
    },
    {
      "cell_type": "code",
      "execution_count": null,
      "metadata": {
        "id": "YIwxrQb-tEzd"
      },
      "outputs": [],
      "source": []
    },
    {
      "cell_type": "code",
      "execution_count": null,
      "metadata": {
        "id": "pWkA3GXptEzd"
      },
      "outputs": [],
      "source": []
    },
    {
      "cell_type": "code",
      "execution_count": null,
      "metadata": {
        "id": "Q9u19ODutEze"
      },
      "outputs": [],
      "source": []
    }
  ],
  "metadata": {
    "language_info": {
      "name": "python"
    },
    "orig_nbformat": 4,
    "colab": {
      "provenance": []
    },
    "kernelspec": {
      "name": "python3",
      "display_name": "Python 3"
    }
  },
  "nbformat": 4,
  "nbformat_minor": 0
}