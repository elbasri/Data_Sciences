{
 "cells": [
  {
   "cell_type": "markdown",
   "metadata": {},
   "source": [
    "# TP: Pandas Cleaning"
   ]
  },
  {
   "cell_type": "code",
   "execution_count": 64,
   "metadata": {},
   "outputs": [],
   "source": [
    "import pandas as pd\n",
    "import matplotlib.pyplot as plt"
   ]
  },
  {
   "cell_type": "code",
   "execution_count": 65,
   "metadata": {},
   "outputs": [
    {
     "data": {
      "text/plain": [
       "Index(['Id', 'Clump_thickness', 'Uniformity_Cell_Size',\n",
       "       'Uniformity_Cell_Shape', 'Marginal_Adhesion',\n",
       "       'Single_Epithelial_Cell_Size', 'Bare_Nuclei', 'Bland_Chromatin',\n",
       "       'Normal_Nucleoli', 'Mitoses', 'Class'],\n",
       "      dtype='object')"
      ]
     },
     "execution_count": 65,
     "metadata": {},
     "output_type": "execute_result"
    }
   ],
   "source": [
    "df = pd.read_csv(\"data/source.csv\")\n",
    "df.columns = ['Id', 'Clump_thickness', 'Uniformity_Cell_Size', 'Uniformity_Cell_Shape', 'Marginal_Adhesion', \n",
    "             'Single_Epithelial_Cell_Size', 'Bare_Nuclei', 'Bland_Chromatin', 'Normal_Nucleoli', 'Mitoses', 'Class']\n",
    "df.columns"
   ]
  },
  {
   "cell_type": "code",
   "execution_count": 66,
   "metadata": {},
   "outputs": [
    {
     "data": {
      "text/html": [
       "<div>\n",
       "<style scoped>\n",
       "    .dataframe tbody tr th:only-of-type {\n",
       "        vertical-align: middle;\n",
       "    }\n",
       "\n",
       "    .dataframe tbody tr th {\n",
       "        vertical-align: top;\n",
       "    }\n",
       "\n",
       "    .dataframe thead th {\n",
       "        text-align: right;\n",
       "    }\n",
       "</style>\n",
       "<table border=\"1\" class=\"dataframe\">\n",
       "  <thead>\n",
       "    <tr style=\"text-align: right;\">\n",
       "      <th></th>\n",
       "      <th>Id</th>\n",
       "      <th>Clump_thickness</th>\n",
       "      <th>Uniformity_Cell_Size</th>\n",
       "      <th>Uniformity_Cell_Shape</th>\n",
       "      <th>Marginal_Adhesion</th>\n",
       "      <th>Single_Epithelial_Cell_Size</th>\n",
       "      <th>Bare_Nuclei</th>\n",
       "      <th>Bland_Chromatin</th>\n",
       "      <th>Normal_Nucleoli</th>\n",
       "      <th>Mitoses</th>\n",
       "      <th>Class</th>\n",
       "    </tr>\n",
       "  </thead>\n",
       "  <tbody>\n",
       "    <tr>\n",
       "      <th>0</th>\n",
       "      <td>1002945</td>\n",
       "      <td>5</td>\n",
       "      <td>4</td>\n",
       "      <td>4</td>\n",
       "      <td>5</td>\n",
       "      <td>7</td>\n",
       "      <td>10</td>\n",
       "      <td>3</td>\n",
       "      <td>2</td>\n",
       "      <td>1</td>\n",
       "      <td>2</td>\n",
       "    </tr>\n",
       "    <tr>\n",
       "      <th>1</th>\n",
       "      <td>1015425</td>\n",
       "      <td>3</td>\n",
       "      <td>1</td>\n",
       "      <td>1</td>\n",
       "      <td>1</td>\n",
       "      <td>2</td>\n",
       "      <td>2</td>\n",
       "      <td>3</td>\n",
       "      <td>1</td>\n",
       "      <td>1</td>\n",
       "      <td>2</td>\n",
       "    </tr>\n",
       "    <tr>\n",
       "      <th>2</th>\n",
       "      <td>1016277</td>\n",
       "      <td>6</td>\n",
       "      <td>8</td>\n",
       "      <td>8</td>\n",
       "      <td>1</td>\n",
       "      <td>3</td>\n",
       "      <td>4</td>\n",
       "      <td>3</td>\n",
       "      <td>7</td>\n",
       "      <td>1</td>\n",
       "      <td>2</td>\n",
       "    </tr>\n",
       "    <tr>\n",
       "      <th>3</th>\n",
       "      <td>1017023</td>\n",
       "      <td>4</td>\n",
       "      <td>1</td>\n",
       "      <td>1</td>\n",
       "      <td>3</td>\n",
       "      <td>2</td>\n",
       "      <td>1</td>\n",
       "      <td>3</td>\n",
       "      <td>1</td>\n",
       "      <td>1</td>\n",
       "      <td>2</td>\n",
       "    </tr>\n",
       "    <tr>\n",
       "      <th>4</th>\n",
       "      <td>1017122</td>\n",
       "      <td>8</td>\n",
       "      <td>10</td>\n",
       "      <td>10</td>\n",
       "      <td>8</td>\n",
       "      <td>7</td>\n",
       "      <td>10</td>\n",
       "      <td>9</td>\n",
       "      <td>7</td>\n",
       "      <td>1</td>\n",
       "      <td>4</td>\n",
       "    </tr>\n",
       "  </tbody>\n",
       "</table>\n",
       "</div>"
      ],
      "text/plain": [
       "        Id  Clump_thickness  Uniformity_Cell_Size  Uniformity_Cell_Shape  \\\n",
       "0  1002945                5                     4                      4   \n",
       "1  1015425                3                     1                      1   \n",
       "2  1016277                6                     8                      8   \n",
       "3  1017023                4                     1                      1   \n",
       "4  1017122                8                    10                     10   \n",
       "\n",
       "   Marginal_Adhesion  Single_Epithelial_Cell_Size Bare_Nuclei  \\\n",
       "0                  5                            7          10   \n",
       "1                  1                            2           2   \n",
       "2                  1                            3           4   \n",
       "3                  3                            2           1   \n",
       "4                  8                            7          10   \n",
       "\n",
       "   Bland_Chromatin  Normal_Nucleoli  Mitoses  Class  \n",
       "0                3                2        1      2  \n",
       "1                3                1        1      2  \n",
       "2                3                7        1      2  \n",
       "3                3                1        1      2  \n",
       "4                9                7        1      4  "
      ]
     },
     "execution_count": 66,
     "metadata": {},
     "output_type": "execute_result"
    }
   ],
   "source": [
    "df.head()"
   ]
  },
  {
   "cell_type": "code",
   "execution_count": 67,
   "metadata": {},
   "outputs": [],
   "source": [
    "df.drop('Id', axis=1, inplace=True)"
   ]
  },
  {
   "cell_type": "code",
   "execution_count": 68,
   "metadata": {},
   "outputs": [
    {
     "data": {
      "text/html": [
       "<div>\n",
       "<style scoped>\n",
       "    .dataframe tbody tr th:only-of-type {\n",
       "        vertical-align: middle;\n",
       "    }\n",
       "\n",
       "    .dataframe tbody tr th {\n",
       "        vertical-align: top;\n",
       "    }\n",
       "\n",
       "    .dataframe thead th {\n",
       "        text-align: right;\n",
       "    }\n",
       "</style>\n",
       "<table border=\"1\" class=\"dataframe\">\n",
       "  <thead>\n",
       "    <tr style=\"text-align: right;\">\n",
       "      <th></th>\n",
       "      <th>count</th>\n",
       "      <th>mean</th>\n",
       "      <th>std</th>\n",
       "      <th>min</th>\n",
       "      <th>25%</th>\n",
       "      <th>50%</th>\n",
       "      <th>75%</th>\n",
       "      <th>max</th>\n",
       "    </tr>\n",
       "  </thead>\n",
       "  <tbody>\n",
       "    <tr>\n",
       "      <th>Clump_thickness</th>\n",
       "      <td>698.0</td>\n",
       "      <td>4.416905</td>\n",
       "      <td>2.817673</td>\n",
       "      <td>1.0</td>\n",
       "      <td>2.0</td>\n",
       "      <td>4.0</td>\n",
       "      <td>6.0</td>\n",
       "      <td>10.0</td>\n",
       "    </tr>\n",
       "    <tr>\n",
       "      <th>Uniformity_Cell_Size</th>\n",
       "      <td>698.0</td>\n",
       "      <td>3.137536</td>\n",
       "      <td>3.052575</td>\n",
       "      <td>1.0</td>\n",
       "      <td>1.0</td>\n",
       "      <td>1.0</td>\n",
       "      <td>5.0</td>\n",
       "      <td>10.0</td>\n",
       "    </tr>\n",
       "    <tr>\n",
       "      <th>Uniformity_Cell_Shape</th>\n",
       "      <td>698.0</td>\n",
       "      <td>3.210602</td>\n",
       "      <td>2.972867</td>\n",
       "      <td>1.0</td>\n",
       "      <td>1.0</td>\n",
       "      <td>1.0</td>\n",
       "      <td>5.0</td>\n",
       "      <td>10.0</td>\n",
       "    </tr>\n",
       "    <tr>\n",
       "      <th>Marginal_Adhesion</th>\n",
       "      <td>698.0</td>\n",
       "      <td>2.809456</td>\n",
       "      <td>2.856606</td>\n",
       "      <td>1.0</td>\n",
       "      <td>1.0</td>\n",
       "      <td>1.0</td>\n",
       "      <td>4.0</td>\n",
       "      <td>10.0</td>\n",
       "    </tr>\n",
       "    <tr>\n",
       "      <th>Single_Epithelial_Cell_Size</th>\n",
       "      <td>698.0</td>\n",
       "      <td>3.217765</td>\n",
       "      <td>2.215408</td>\n",
       "      <td>1.0</td>\n",
       "      <td>2.0</td>\n",
       "      <td>2.0</td>\n",
       "      <td>4.0</td>\n",
       "      <td>10.0</td>\n",
       "    </tr>\n",
       "    <tr>\n",
       "      <th>Bland_Chromatin</th>\n",
       "      <td>698.0</td>\n",
       "      <td>3.438395</td>\n",
       "      <td>2.440056</td>\n",
       "      <td>1.0</td>\n",
       "      <td>2.0</td>\n",
       "      <td>3.0</td>\n",
       "      <td>5.0</td>\n",
       "      <td>10.0</td>\n",
       "    </tr>\n",
       "    <tr>\n",
       "      <th>Normal_Nucleoli</th>\n",
       "      <td>698.0</td>\n",
       "      <td>2.869628</td>\n",
       "      <td>3.055004</td>\n",
       "      <td>1.0</td>\n",
       "      <td>1.0</td>\n",
       "      <td>1.0</td>\n",
       "      <td>4.0</td>\n",
       "      <td>10.0</td>\n",
       "    </tr>\n",
       "    <tr>\n",
       "      <th>Mitoses</th>\n",
       "      <td>698.0</td>\n",
       "      <td>1.590258</td>\n",
       "      <td>1.716162</td>\n",
       "      <td>1.0</td>\n",
       "      <td>1.0</td>\n",
       "      <td>1.0</td>\n",
       "      <td>1.0</td>\n",
       "      <td>10.0</td>\n",
       "    </tr>\n",
       "    <tr>\n",
       "      <th>Class</th>\n",
       "      <td>698.0</td>\n",
       "      <td>2.690544</td>\n",
       "      <td>0.951596</td>\n",
       "      <td>2.0</td>\n",
       "      <td>2.0</td>\n",
       "      <td>2.0</td>\n",
       "      <td>4.0</td>\n",
       "      <td>4.0</td>\n",
       "    </tr>\n",
       "  </tbody>\n",
       "</table>\n",
       "</div>"
      ],
      "text/plain": [
       "                             count      mean       std  min  25%  50%  75%  \\\n",
       "Clump_thickness              698.0  4.416905  2.817673  1.0  2.0  4.0  6.0   \n",
       "Uniformity_Cell_Size         698.0  3.137536  3.052575  1.0  1.0  1.0  5.0   \n",
       "Uniformity_Cell_Shape        698.0  3.210602  2.972867  1.0  1.0  1.0  5.0   \n",
       "Marginal_Adhesion            698.0  2.809456  2.856606  1.0  1.0  1.0  4.0   \n",
       "Single_Epithelial_Cell_Size  698.0  3.217765  2.215408  1.0  2.0  2.0  4.0   \n",
       "Bland_Chromatin              698.0  3.438395  2.440056  1.0  2.0  3.0  5.0   \n",
       "Normal_Nucleoli              698.0  2.869628  3.055004  1.0  1.0  1.0  4.0   \n",
       "Mitoses                      698.0  1.590258  1.716162  1.0  1.0  1.0  1.0   \n",
       "Class                        698.0  2.690544  0.951596  2.0  2.0  2.0  4.0   \n",
       "\n",
       "                              max  \n",
       "Clump_thickness              10.0  \n",
       "Uniformity_Cell_Size         10.0  \n",
       "Uniformity_Cell_Shape        10.0  \n",
       "Marginal_Adhesion            10.0  \n",
       "Single_Epithelial_Cell_Size  10.0  \n",
       "Bland_Chromatin              10.0  \n",
       "Normal_Nucleoli              10.0  \n",
       "Mitoses                      10.0  \n",
       "Class                         4.0  "
      ]
     },
     "execution_count": 68,
     "metadata": {},
     "output_type": "execute_result"
    }
   ],
   "source": [
    "df.describe()\n",
    "df.describe().T"
   ]
  },
  {
   "cell_type": "code",
   "execution_count": 69,
   "metadata": {},
   "outputs": [
    {
     "name": "stdout",
     "output_type": "stream",
     "text": [
      "Clump_thickness\n",
      "1     145\n",
      "5     129\n",
      "3     108\n",
      "4      80\n",
      "10     69\n",
      "2      50\n",
      "8      46\n",
      "6      34\n",
      "7      23\n",
      "9      14\n",
      "Name: count, dtype: int64\n",
      "Uniformity_Cell_Size\n",
      "1     383\n",
      "10     67\n",
      "3      52\n",
      "2      45\n",
      "4      40\n",
      "5      30\n",
      "8      29\n",
      "6      27\n",
      "7      19\n",
      "9       6\n",
      "Name: count, dtype: int64\n",
      "Uniformity_Cell_Shape\n",
      "1     352\n",
      "2      59\n",
      "10     58\n",
      "3      56\n",
      "4      44\n",
      "5      34\n",
      "6      30\n",
      "7      30\n",
      "8      28\n",
      "9       7\n",
      "Name: count, dtype: int64\n",
      "Marginal_Adhesion\n",
      "1     406\n",
      "3      58\n",
      "2      58\n",
      "10     55\n",
      "4      33\n",
      "8      25\n",
      "5      23\n",
      "6      22\n",
      "7      13\n",
      "9       5\n",
      "Name: count, dtype: int64\n",
      "Single_Epithelial_Cell_Size\n",
      "2     385\n",
      "3      72\n",
      "4      48\n",
      "1      47\n",
      "6      41\n",
      "5      39\n",
      "10     31\n",
      "8      21\n",
      "7      12\n",
      "9       2\n",
      "Name: count, dtype: int64\n",
      "Bare_Nuclei\n",
      "1     401\n",
      "10    132\n",
      "2      30\n",
      "5      30\n",
      "3      28\n",
      "8      21\n",
      "4      19\n",
      "?      16\n",
      "9       9\n",
      "7       8\n",
      "6       4\n",
      "Name: count, dtype: int64\n",
      "Bland_Chromatin\n",
      "2     166\n",
      "3     164\n",
      "1     152\n",
      "7      73\n",
      "4      40\n",
      "5      34\n",
      "8      28\n",
      "10     20\n",
      "9      11\n",
      "6      10\n",
      "Name: count, dtype: int64\n",
      "Normal_Nucleoli\n",
      "1     442\n",
      "10     61\n",
      "3      44\n",
      "2      36\n",
      "8      24\n",
      "6      22\n",
      "5      19\n",
      "4      18\n",
      "7      16\n",
      "9      16\n",
      "Name: count, dtype: int64\n",
      "Mitoses\n",
      "1     578\n",
      "2      35\n",
      "3      33\n",
      "10     14\n",
      "4      12\n",
      "7       9\n",
      "8       8\n",
      "5       6\n",
      "6       3\n",
      "Name: count, dtype: int64\n",
      "Class\n",
      "2    457\n",
      "4    241\n",
      "Name: count, dtype: int64\n"
     ]
    }
   ],
   "source": [
    "for i in df.columns:\n",
    "    print(df[i].value_counts())"
   ]
  },
  {
   "cell_type": "code",
   "execution_count": 70,
   "metadata": {},
   "outputs": [
    {
     "name": "stdout",
     "output_type": "stream",
     "text": [
      "0\n",
      "0\n",
      "0\n",
      "0\n",
      "0\n",
      "0\n",
      "0\n",
      "0\n",
      "0\n",
      "0\n"
     ]
    }
   ],
   "source": [
    "for i in df.columns:\n",
    "    print(df[i].isnull().sum())\n",
    "    df[i] = pd.to_numeric(df[i], errors=\"coerce\") "
   ]
  },
  {
   "cell_type": "code",
   "execution_count": 71,
   "metadata": {},
   "outputs": [],
   "source": [
    "df.to_csv(\"data/out.csv\")"
   ]
  },
  {
   "cell_type": "code",
   "execution_count": 72,
   "metadata": {},
   "outputs": [],
   "source": [
    "for col in df:\n",
    "    col_mediane = df[col].median()\n",
    "    df[col].fillna(col_mediane,inplace=True)"
   ]
  },
  {
   "cell_type": "code",
   "execution_count": 73,
   "metadata": {},
   "outputs": [
    {
     "data": {
      "image/png": "[encoded data removed]",
      "text/plain": [
       "<Figure size 640x480 with 1 Axes>"
      ]
     },
     "metadata": {},
     "output_type": "display_data"
    }
   ],
   "source": [
    "fig = plt.Figure(figsize=(10,6))\n",
    "plt.hist(df)\n",
    "plt.show()"
   ]
  },
  {
   "cell_type": "code",
   "execution_count": 74,
   "metadata": {},
   "outputs": [
    {
     "data": {
      "image/png": "[encoded data removed]",
      "text/plain": [
       "<Figure size 640x480 with 1 Axes>"
      ]
     },
     "metadata": {},
     "output_type": "display_data"
    }
   ],
   "source": [
    "fig = plt.Figure(figsize=(10,6))\n",
    "plt.scatter(df['Clump_thickness'], df['Uniformity_Cell_Size'])\n",
    "plt.show()"
   ]
  },
  {
   "cell_type": "code",
   "execution_count": 76,
   "metadata": {},
   "outputs": [
    {
     "ename": "NameError",
     "evalue": "name 'columns_to_plot' is not defined",
     "output_type": "error",
     "traceback": [
      "\u001b[0;31m---------------------------------------------------------------------------\u001b[0m",
      "\u001b[0;31mNameError\u001b[0m                                 Traceback (most recent call last)",
      "\u001b[1;32m/home/abdennacer/Documents/GitHub/Data_Sciences/Algorithm/dataCleaning/pdCleaning.ipynb Cell 13\u001b[0m line \u001b[0;36m5\n\u001b[1;32m      <a href='vscode-notebook-cell:/home/abdennacer/Documents/GitHub/Data_Sciences/Algorithm/dataCleaning/pdCleaning.ipynb#X14sZmlsZQ%3D%3D?line=1'>2</a>\u001b[0m fig\u001b[39m.\u001b[39msuptitle(\u001b[39m'\u001b[39m\u001b[39mDistribution of Features in the Dataset\u001b[39m\u001b[39m'\u001b[39m, fontsize\u001b[39m=\u001b[39m\u001b[39m16\u001b[39m)\n\u001b[1;32m      <a href='vscode-notebook-cell:/home/abdennacer/Documents/GitHub/Data_Sciences/Algorithm/dataCleaning/pdCleaning.ipynb#X14sZmlsZQ%3D%3D?line=3'>4</a>\u001b[0m \u001b[39m# Plotting histograms\u001b[39;00m\n\u001b[0;32m----> <a href='vscode-notebook-cell:/home/abdennacer/Documents/GitHub/Data_Sciences/Algorithm/dataCleaning/pdCleaning.ipynb#X14sZmlsZQ%3D%3D?line=4'>5</a>\u001b[0m \u001b[39mfor\u001b[39;00m col, ax \u001b[39min\u001b[39;00m \u001b[39mzip\u001b[39m(columns_to_plot, axes\u001b[39m.\u001b[39mflatten()):\n\u001b[1;32m      <a href='vscode-notebook-cell:/home/abdennacer/Documents/GitHub/Data_Sciences/Algorithm/dataCleaning/pdCleaning.ipynb#X14sZmlsZQ%3D%3D?line=5'>6</a>\u001b[0m     ax\u001b[39m.\u001b[39mhist(df[col], bins\u001b[39m=\u001b[39m\u001b[39m20\u001b[39m, color\u001b[39m=\u001b[39m\u001b[39m'\u001b[39m\u001b[39mskyblue\u001b[39m\u001b[39m'\u001b[39m, edgecolor\u001b[39m=\u001b[39m\u001b[39m'\u001b[39m\u001b[39mblack\u001b[39m\u001b[39m'\u001b[39m)\n\u001b[1;32m      <a href='vscode-notebook-cell:/home/abdennacer/Documents/GitHub/Data_Sciences/Algorithm/dataCleaning/pdCleaning.ipynb#X14sZmlsZQ%3D%3D?line=6'>7</a>\u001b[0m     ax\u001b[39m.\u001b[39mset_title(col)\n",
      "\u001b[0;31mNameError\u001b[0m: name 'columns_to_plot' is not defined"
     ]
    },
    {
     "data": {
      "image/png": "[encoded data removed]",
      "text/plain": [
       "<Figure size 1500x1200 with 12 Axes>"
      ]
     },
     "metadata": {},
     "output_type": "display_data"
    }
   ],
   "source": [
    "fig, axes = plt.subplots(nrows=4, ncols=3, figsize=(15, 12))\n",
    "fig.suptitle('Distribution of Features in the Dataset', fontsize=16)\n",
    "\n",
    "# Plotting histograms\n",
    "for col, ax in zip(plt, axes.flatten()):\n",
    "    ax.hist(df[col], bins=20, color='skyblue', edgecolor='black')\n",
    "    ax.set_title(col)\n",
    "    ax.set_ylabel('Frequency')\n",
    "\n",
    "# Adjusting layout\n",
    "plt.tight_layout(rect=[0, 0.03, 1, 0.95])\n",
    "\n",
    "# Display the histograms\n",
    "plt.show()\n"
   ]
  },
  {
   "cell_type": "code",
   "execution_count": null,
   "metadata": {},
   "outputs": [],
   "source": []
  }
 ],
 "metadata": {
  "kernelspec": {
   "display_name": "Python 3",
   "language": "python",
   "name": "python3"
  },
  "language_info": {
   "codemirror_mode": {
    "name": "ipython",
    "version": 3
   },
   "file_extension": ".py",
   "mimetype": "text/x-python",
   "name": "python",
   "nbconvert_exporter": "python",
   "pygments_lexer": "ipython3",
   "version": "3.10.12"
  },
  "orig_nbformat": 4
 },
 "nbformat": 4,
 "nbformat_minor": 2
}
